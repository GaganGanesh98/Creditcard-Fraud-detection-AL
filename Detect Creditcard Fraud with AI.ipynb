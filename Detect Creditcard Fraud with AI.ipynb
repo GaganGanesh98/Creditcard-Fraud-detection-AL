{
 "cells": [
  {
   "cell_type": "markdown",
   "metadata": {
    "application/vnd.databricks.v1+cell": {
     "cellMetadata": {},
     "inputWidgets": {},
     "nuid": "0b7ed1ed-bf75-4e31-8b16-8e9931d9f94b",
     "showTitle": false,
     "tableResultSettingsMap": {},
     "title": ""
    }
   },
   "source": [
    "Load and Explore the Data"
   ]
  },
  {
   "cell_type": "code",
   "execution_count": 0,
   "metadata": {
    "application/vnd.databricks.v1+cell": {
     "cellMetadata": {
      "byteLimit": 2048000,
      "rowLimit": 10000
     },
     "inputWidgets": {},
     "nuid": "2f8b276d-f0ce-4b12-9dec-da051f5fa30c",
     "showTitle": false,
     "tableResultSettingsMap": {},
     "title": ""
    }
   },
   "outputs": [
    {
     "output_type": "display_data",
     "data": {
      "text/html": [
       "<style scoped>\n",
       "  .table-result-container {\n",
       "    max-height: 300px;\n",
       "    overflow: auto;\n",
       "  }\n",
       "  table, th, td {\n",
       "    border: 1px solid black;\n",
       "    border-collapse: collapse;\n",
       "  }\n",
       "  th, td {\n",
       "    padding: 5px;\n",
       "  }\n",
       "  th {\n",
       "    text-align: left;\n",
       "  }\n",
       "</style><div class='table-result-container'><table class='table-result'><thead style='background-color: white'><tr><th>Time</th><th>V1</th><th>V2</th><th>V3</th><th>V4</th><th>V5</th><th>V6</th><th>V7</th><th>V8</th><th>V9</th><th>V10</th><th>V11</th><th>V12</th><th>V13</th><th>V14</th><th>V15</th><th>V16</th><th>V17</th><th>V18</th><th>V19</th><th>V20</th><th>V21</th><th>V22</th><th>V23</th><th>V24</th><th>V25</th><th>V26</th><th>V27</th><th>V28</th><th>Amount</th><th>Class</th></tr></thead><tbody><tr><td>0.0</td><td>-1.3598071336738</td><td>-0.0727811733098497</td><td>2.53634673796914</td><td>1.37815522427443</td><td>-0.338320769942518</td><td>0.462387777762292</td><td>0.239598554061257</td><td>0.0986979012610507</td><td>0.363786969611213</td><td>0.0907941719789316</td><td>-0.551599533260813</td><td>-0.617800855762348</td><td>-0.991389847235408</td><td>-0.311169353699879</td><td>1.46817697209427</td><td>-0.470400525259478</td><td>0.207971241929242</td><td>0.0257905801985591</td><td>0.403992960255733</td><td>0.251412098239705</td><td>-0.018306777944153</td><td>0.277837575558899</td><td>-0.110473910188767</td><td>0.0669280749146731</td><td>0.128539358273528</td><td>-0.189114843888824</td><td>0.133558376740387</td><td>-0.0210530534538215</td><td>149.62</td><td>0</td></tr><tr><td>0.0</td><td>1.19185711131486</td><td>0.26615071205963</td><td>0.16648011335321</td><td>0.448154078460911</td><td>0.0600176492822243</td><td>-0.0823608088155687</td><td>-0.0788029833323113</td><td>0.0851016549148104</td><td>-0.255425128109186</td><td>-0.166974414004614</td><td>1.61272666105479</td><td>1.06523531137287</td><td>0.48909501589608</td><td>-0.143772296441519</td><td>0.635558093258208</td><td>0.463917041022171</td><td>-0.114804663102346</td><td>-0.183361270123994</td><td>-0.145783041325259</td><td>-0.0690831352230203</td><td>-0.225775248033138</td><td>-0.638671952771851</td><td>0.101288021253234</td><td>-0.339846475529127</td><td>0.167170404418143</td><td>0.125894532368176</td><td>-0.00898309914322813</td><td>0.0147241691924927</td><td>2.69</td><td>0</td></tr><tr><td>1.0</td><td>-1.35835406159823</td><td>-1.34016307473609</td><td>1.77320934263119</td><td>0.379779593034328</td><td>-0.503198133318193</td><td>1.80049938079263</td><td>0.791460956450422</td><td>0.247675786588991</td><td>-1.51465432260583</td><td>0.207642865216696</td><td>0.624501459424895</td><td>0.066083685268831</td><td>0.717292731410831</td><td>-0.165945922763554</td><td>2.34586494901581</td><td>-2.89008319444231</td><td>1.10996937869599</td><td>-0.121359313195888</td><td>-2.26185709530414</td><td>0.524979725224404</td><td>0.247998153469754</td><td>0.771679401917229</td><td>0.909412262347719</td><td>-0.689280956490685</td><td>-0.327641833735251</td><td>-0.139096571514147</td><td>-0.0553527940384261</td><td>-0.0597518405929204</td><td>378.66</td><td>0</td></tr><tr><td>1.0</td><td>-0.966271711572087</td><td>-0.185226008082898</td><td>1.79299333957872</td><td>-0.863291275036453</td><td>-0.0103088796030823</td><td>1.24720316752486</td><td>0.23760893977178</td><td>0.377435874652262</td><td>-1.38702406270197</td><td>-0.0549519224713749</td><td>-0.226487263835401</td><td>0.178228225877303</td><td>0.507756869957169</td><td>-0.28792374549456</td><td>-0.631418117709045</td><td>-1.0596472454325</td><td>-0.684092786345479</td><td>1.96577500349538</td><td>-1.2326219700892</td><td>-0.208037781160366</td><td>-0.108300452035545</td><td>0.00527359678253453</td><td>-0.190320518742841</td><td>-1.17557533186321</td><td>0.647376034602038</td><td>-0.221928844458407</td><td>0.0627228487293033</td><td>0.0614576285006353</td><td>123.5</td><td>0</td></tr><tr><td>2.0</td><td>-1.15823309349523</td><td>0.877736754848451</td><td>1.548717846511</td><td>0.403033933955121</td><td>-0.407193377311653</td><td>0.0959214624684256</td><td>0.592940745385545</td><td>-0.270532677192282</td><td>0.817739308235294</td><td>0.753074431976354</td><td>-0.822842877946363</td><td>0.53819555014995</td><td>1.3458515932154</td><td>-1.11966983471731</td><td>0.175121130008994</td><td>-0.451449182813529</td><td>-0.237033239362776</td><td>-0.0381947870352842</td><td>0.803486924960175</td><td>0.408542360392758</td><td>-0.00943069713232919</td><td>0.79827849458971</td><td>-0.137458079619063</td><td>0.141266983824769</td><td>-0.206009587619756</td><td>0.502292224181569</td><td>0.219422229513348</td><td>0.215153147499206</td><td>69.99</td><td>0</td></tr></tbody></table></div>"
      ]
     },
     "metadata": {
      "application/vnd.databricks.v1+output": {
       "addedWidgets": {},
       "aggData": [],
       "aggError": "",
       "aggOverflow": false,
       "aggSchema": [],
       "aggSeriesLimitReached": false,
       "aggType": "",
       "arguments": {},
       "columnCustomDisplayInfos": {},
       "data": [
        [
         0.0,
         -1.3598071336738,
         -0.0727811733098497,
         2.53634673796914,
         1.37815522427443,
         -0.338320769942518,
         0.462387777762292,
         0.239598554061257,
         0.0986979012610507,
         0.363786969611213,
         0.0907941719789316,
         -0.551599533260813,
         -0.617800855762348,
         -0.991389847235408,
         -0.311169353699879,
         1.46817697209427,
         -0.470400525259478,
         0.207971241929242,
         0.0257905801985591,
         0.403992960255733,
         0.251412098239705,
         -0.018306777944153,
         0.277837575558899,
         -0.110473910188767,
         0.0669280749146731,
         0.128539358273528,
         -0.189114843888824,
         0.133558376740387,
         -0.0210530534538215,
         149.62,
         0
        ],
        [
         0.0,
         1.19185711131486,
         0.26615071205963,
         0.16648011335321,
         0.448154078460911,
         0.0600176492822243,
         -0.0823608088155687,
         -0.0788029833323113,
         0.0851016549148104,
         -0.255425128109186,
         -0.166974414004614,
         1.61272666105479,
         1.06523531137287,
         0.48909501589608,
         -0.143772296441519,
         0.635558093258208,
         0.463917041022171,
         -0.114804663102346,
         -0.183361270123994,
         -0.145783041325259,
         -0.0690831352230203,
         -0.225775248033138,
         -0.638671952771851,
         0.101288021253234,
         -0.339846475529127,
         0.167170404418143,
         0.125894532368176,
         -0.00898309914322813,
         0.0147241691924927,
         2.69,
         0
        ],
        [
         1.0,
         -1.35835406159823,
         -1.34016307473609,
         1.77320934263119,
         0.379779593034328,
         -0.503198133318193,
         1.80049938079263,
         0.791460956450422,
         0.247675786588991,
         -1.51465432260583,
         0.207642865216696,
         0.624501459424895,
         0.066083685268831,
         0.717292731410831,
         -0.165945922763554,
         2.34586494901581,
         -2.89008319444231,
         1.10996937869599,
         -0.121359313195888,
         -2.26185709530414,
         0.524979725224404,
         0.247998153469754,
         0.771679401917229,
         0.909412262347719,
         -0.689280956490685,
         -0.327641833735251,
         -0.139096571514147,
         -0.0553527940384261,
         -0.0597518405929204,
         378.66,
         0
        ],
        [
         1.0,
         -0.966271711572087,
         -0.185226008082898,
         1.79299333957872,
         -0.863291275036453,
         -0.0103088796030823,
         1.24720316752486,
         0.23760893977178,
         0.377435874652262,
         -1.38702406270197,
         -0.0549519224713749,
         -0.226487263835401,
         0.178228225877303,
         0.507756869957169,
         -0.28792374549456,
         -0.631418117709045,
         -1.0596472454325,
         -0.684092786345479,
         1.96577500349538,
         -1.2326219700892,
         -0.208037781160366,
         -0.108300452035545,
         0.00527359678253453,
         -0.190320518742841,
         -1.17557533186321,
         0.647376034602038,
         -0.221928844458407,
         0.0627228487293033,
         0.0614576285006353,
         123.5,
         0
        ],
        [
         2.0,
         -1.15823309349523,
         0.877736754848451,
         1.548717846511,
         0.403033933955121,
         -0.407193377311653,
         0.0959214624684256,
         0.592940745385545,
         -0.270532677192282,
         0.817739308235294,
         0.753074431976354,
         -0.822842877946363,
         0.53819555014995,
         1.3458515932154,
         -1.11966983471731,
         0.175121130008994,
         -0.451449182813529,
         -0.237033239362776,
         -0.0381947870352842,
         0.803486924960175,
         0.408542360392758,
         -0.00943069713232919,
         0.79827849458971,
         -0.137458079619063,
         0.141266983824769,
         -0.206009587619756,
         0.502292224181569,
         0.219422229513348,
         0.215153147499206,
         69.99,
         0
        ]
       ],
       "datasetInfos": [],
       "dbfsResultPath": null,
       "isJsonSchema": true,
       "metadata": {},
       "overflow": false,
       "plotOptions": {
        "customPlotOptions": {},
        "displayType": "table",
        "pivotAggregation": null,
        "pivotColumns": null,
        "xColumns": null,
        "yColumns": null
       },
       "removedWidgets": [],
       "schema": [
        {
         "metadata": "{}",
         "name": "Time",
         "type": "\"double\""
        },
        {
         "metadata": "{}",
         "name": "V1",
         "type": "\"double\""
        },
        {
         "metadata": "{}",
         "name": "V2",
         "type": "\"double\""
        },
        {
         "metadata": "{}",
         "name": "V3",
         "type": "\"double\""
        },
        {
         "metadata": "{}",
         "name": "V4",
         "type": "\"double\""
        },
        {
         "metadata": "{}",
         "name": "V5",
         "type": "\"double\""
        },
        {
         "metadata": "{}",
         "name": "V6",
         "type": "\"double\""
        },
        {
         "metadata": "{}",
         "name": "V7",
         "type": "\"double\""
        },
        {
         "metadata": "{}",
         "name": "V8",
         "type": "\"double\""
        },
        {
         "metadata": "{}",
         "name": "V9",
         "type": "\"double\""
        },
        {
         "metadata": "{}",
         "name": "V10",
         "type": "\"double\""
        },
        {
         "metadata": "{}",
         "name": "V11",
         "type": "\"double\""
        },
        {
         "metadata": "{}",
         "name": "V12",
         "type": "\"double\""
        },
        {
         "metadata": "{}",
         "name": "V13",
         "type": "\"double\""
        },
        {
         "metadata": "{}",
         "name": "V14",
         "type": "\"double\""
        },
        {
         "metadata": "{}",
         "name": "V15",
         "type": "\"double\""
        },
        {
         "metadata": "{}",
         "name": "V16",
         "type": "\"double\""
        },
        {
         "metadata": "{}",
         "name": "V17",
         "type": "\"double\""
        },
        {
         "metadata": "{}",
         "name": "V18",
         "type": "\"double\""
        },
        {
         "metadata": "{}",
         "name": "V19",
         "type": "\"double\""
        },
        {
         "metadata": "{}",
         "name": "V20",
         "type": "\"double\""
        },
        {
         "metadata": "{}",
         "name": "V21",
         "type": "\"double\""
        },
        {
         "metadata": "{}",
         "name": "V22",
         "type": "\"double\""
        },
        {
         "metadata": "{}",
         "name": "V23",
         "type": "\"double\""
        },
        {
         "metadata": "{}",
         "name": "V24",
         "type": "\"double\""
        },
        {
         "metadata": "{}",
         "name": "V25",
         "type": "\"double\""
        },
        {
         "metadata": "{}",
         "name": "V26",
         "type": "\"double\""
        },
        {
         "metadata": "{}",
         "name": "V27",
         "type": "\"double\""
        },
        {
         "metadata": "{}",
         "name": "V28",
         "type": "\"double\""
        },
        {
         "metadata": "{}",
         "name": "Amount",
         "type": "\"double\""
        },
        {
         "metadata": "{}",
         "name": "Class",
         "type": "\"integer\""
        }
       ],
       "type": "table"
      }
     },
     "output_type": "display_data"
    }
   ],
   "source": [
    "# Load the dataset\n",
    "file_path = \"/FileStore/tables/creditcard.csv\"  # Update with your file path\n",
    "df = spark.read.csv(file_path, header=True, inferSchema=True)\n",
    "\n",
    "# Show the first 5 rows\n",
    "display(df.limit(5))"
   ]
  },
  {
   "cell_type": "code",
   "execution_count": 0,
   "metadata": {
    "application/vnd.databricks.v1+cell": {
     "cellMetadata": {
      "byteLimit": 2048000,
      "rowLimit": 10000
     },
     "inputWidgets": {},
     "nuid": "69bb5c45-6e35-412b-ab15-f5982eb95980",
     "showTitle": false,
     "tableResultSettingsMap": {},
     "title": ""
    }
   },
   "outputs": [
    {
     "output_type": "stream",
     "name": "stdout",
     "output_type": "stream",
     "text": [
      "root\n |-- Time: double (nullable = true)\n |-- V1: double (nullable = true)\n |-- V2: double (nullable = true)\n |-- V3: double (nullable = true)\n |-- V4: double (nullable = true)\n |-- V5: double (nullable = true)\n |-- V6: double (nullable = true)\n |-- V7: double (nullable = true)\n |-- V8: double (nullable = true)\n |-- V9: double (nullable = true)\n |-- V10: double (nullable = true)\n |-- V11: double (nullable = true)\n |-- V12: double (nullable = true)\n |-- V13: double (nullable = true)\n |-- V14: double (nullable = true)\n |-- V15: double (nullable = true)\n |-- V16: double (nullable = true)\n |-- V17: double (nullable = true)\n |-- V18: double (nullable = true)\n |-- V19: double (nullable = true)\n |-- V20: double (nullable = true)\n |-- V21: double (nullable = true)\n |-- V22: double (nullable = true)\n |-- V23: double (nullable = true)\n |-- V24: double (nullable = true)\n |-- V25: double (nullable = true)\n |-- V26: double (nullable = true)\n |-- V27: double (nullable = true)\n |-- V28: double (nullable = true)\n |-- Amount: double (nullable = true)\n |-- Class: integer (nullable = true)\n\nTotal rows: 284807\n"
     ]
    },
    {
     "output_type": "display_data",
     "data": {
      "text/html": [
       "<style scoped>\n",
       "  .table-result-container {\n",
       "    max-height: 300px;\n",
       "    overflow: auto;\n",
       "  }\n",
       "  table, th, td {\n",
       "    border: 1px solid black;\n",
       "    border-collapse: collapse;\n",
       "  }\n",
       "  th, td {\n",
       "    padding: 5px;\n",
       "  }\n",
       "  th {\n",
       "    text-align: left;\n",
       "  }\n",
       "</style><div class='table-result-container'><table class='table-result'><thead style='background-color: white'><tr><th>Class</th><th>count</th></tr></thead><tbody><tr><td>1</td><td>492</td></tr><tr><td>0</td><td>284315</td></tr></tbody></table></div>"
      ]
     },
     "metadata": {
      "application/vnd.databricks.v1+output": {
       "addedWidgets": {},
       "aggData": [],
       "aggError": "",
       "aggOverflow": false,
       "aggSchema": [],
       "aggSeriesLimitReached": false,
       "aggType": "",
       "arguments": {},
       "columnCustomDisplayInfos": {},
       "data": [
        [
         1,
         492
        ],
        [
         0,
         284315
        ]
       ],
       "datasetInfos": [],
       "dbfsResultPath": null,
       "isJsonSchema": true,
       "metadata": {},
       "overflow": false,
       "plotOptions": {
        "customPlotOptions": {},
        "displayType": "table",
        "pivotAggregation": null,
        "pivotColumns": null,
        "xColumns": null,
        "yColumns": null
       },
       "removedWidgets": [],
       "schema": [
        {
         "metadata": "{}",
         "name": "Class",
         "type": "\"integer\""
        },
        {
         "metadata": "{}",
         "name": "count",
         "type": "\"long\""
        }
       ],
       "type": "table"
      }
     },
     "output_type": "display_data"
    }
   ],
   "source": [
    "# Print the schema\n",
    "df.printSchema()\n",
    "\n",
    "# Count the total number of rows\n",
    "print(\"Total rows:\", df.count())\n",
    "\n",
    "# Check the class distribution (fraud vs. non-fraud)\n",
    "display(df.groupBy(\"Class\").count())"
   ]
  },
  {
   "cell_type": "markdown",
   "metadata": {
    "application/vnd.databricks.v1+cell": {
     "cellMetadata": {},
     "inputWidgets": {},
     "nuid": "f726665c-fb80-4acd-a926-9f335b2b17c2",
     "showTitle": false,
     "tableResultSettingsMap": {},
     "title": ""
    }
   },
   "source": []
  },
  {
   "cell_type": "markdown",
   "metadata": {
    "application/vnd.databricks.v1+cell": {
     "cellMetadata": {},
     "inputWidgets": {},
     "nuid": "dcab4bd0-2e81-446c-b223-9030fe46ccc6",
     "showTitle": false,
     "tableResultSettingsMap": {},
     "title": ""
    }
   },
   "source": [
    "Data Preprocessing"
   ]
  },
  {
   "cell_type": "code",
   "execution_count": 0,
   "metadata": {
    "application/vnd.databricks.v1+cell": {
     "cellMetadata": {
      "byteLimit": 2048000,
      "rowLimit": 10000
     },
     "inputWidgets": {},
     "nuid": "156bbf0c-ff07-400e-a8e0-c05be2cc2874",
     "showTitle": false,
     "tableResultSettingsMap": {},
     "title": ""
    }
   },
   "outputs": [],
   "source": [
    "df = df.drop(\"Time\")"
   ]
  },
  {
   "cell_type": "markdown",
   "metadata": {
    "application/vnd.databricks.v1+cell": {
     "cellMetadata": {},
     "inputWidgets": {},
     "nuid": "2ba24111-f407-48de-b3ae-9fd6fdecdb47",
     "showTitle": false,
     "tableResultSettingsMap": {},
     "title": ""
    }
   },
   "source": [
    "Handle Imbalanced Data"
   ]
  },
  {
   "cell_type": "code",
   "execution_count": 0,
   "metadata": {
    "application/vnd.databricks.v1+cell": {
     "cellMetadata": {
      "byteLimit": 2048000,
      "rowLimit": 10000
     },
     "inputWidgets": {},
     "nuid": "6b9dca27-aecb-4f35-89cc-b1a830042be8",
     "showTitle": false,
     "tableResultSettingsMap": {},
     "title": ""
    }
   },
   "outputs": [
    {
     "output_type": "display_data",
     "data": {
      "text/html": [
       "<style scoped>\n",
       "  .table-result-container {\n",
       "    max-height: 300px;\n",
       "    overflow: auto;\n",
       "  }\n",
       "  table, th, td {\n",
       "    border: 1px solid black;\n",
       "    border-collapse: collapse;\n",
       "  }\n",
       "  th, td {\n",
       "    padding: 5px;\n",
       "  }\n",
       "  th {\n",
       "    text-align: left;\n",
       "  }\n",
       "</style><div class='table-result-container'><table class='table-result'><thead style='background-color: white'><tr><th>Class</th><th>count</th></tr></thead><tbody><tr><td>1</td><td>492</td></tr><tr><td>0</td><td>2866</td></tr></tbody></table></div>"
      ]
     },
     "metadata": {
      "application/vnd.databricks.v1+output": {
       "addedWidgets": {},
       "aggData": [],
       "aggError": "",
       "aggOverflow": false,
       "aggSchema": [],
       "aggSeriesLimitReached": false,
       "aggType": "",
       "arguments": {},
       "columnCustomDisplayInfos": {},
       "data": [
        [
         1,
         492
        ],
        [
         0,
         2866
        ]
       ],
       "datasetInfos": [],
       "dbfsResultPath": null,
       "isJsonSchema": true,
       "metadata": {},
       "overflow": false,
       "plotOptions": {
        "customPlotOptions": {},
        "displayType": "table",
        "pivotAggregation": null,
        "pivotColumns": null,
        "xColumns": null,
        "yColumns": null
       },
       "removedWidgets": [],
       "schema": [
        {
         "metadata": "{}",
         "name": "Class",
         "type": "\"integer\""
        },
        {
         "metadata": "{}",
         "name": "count",
         "type": "\"long\""
        }
       ],
       "type": "table"
      }
     },
     "output_type": "display_data"
    }
   ],
   "source": [
    "from pyspark.sql.functions import col\n",
    "\n",
    "# Separate fraud and non-fraud data\n",
    "fraud_df = df.filter(col(\"Class\") == 1)\n",
    "non_fraud_df = df.filter(col(\"Class\") == 0)\n",
    "\n",
    "# Undersample non-fraud data\n",
    "sampled_non_fraud_df = non_fraud_df.sample(fraction=0.01, seed=42)\n",
    "\n",
    "# Combine the datasets\n",
    "balanced_df = fraud_df.union(sampled_non_fraud_df)\n",
    "\n",
    "# Check the new class distribution\n",
    "display(balanced_df.groupBy(\"Class\").count())"
   ]
  },
  {
   "cell_type": "markdown",
   "metadata": {
    "application/vnd.databricks.v1+cell": {
     "cellMetadata": {},
     "inputWidgets": {},
     "nuid": "8196193d-8dd2-4cb7-ad0e-b638b872be1f",
     "showTitle": false,
     "tableResultSettingsMap": {},
     "title": ""
    }
   },
   "source": [
    "scale the features"
   ]
  },
  {
   "cell_type": "code",
   "execution_count": 0,
   "metadata": {
    "application/vnd.databricks.v1+cell": {
     "cellMetadata": {
      "byteLimit": 2048000,
      "rowLimit": 10000
     },
     "inputWidgets": {},
     "nuid": "3eb560a6-e65b-4de7-97c3-42f2a1195c48",
     "showTitle": false,
     "tableResultSettingsMap": {},
     "title": ""
    }
   },
   "outputs": [
    {
     "output_type": "display_data",
     "data": {
      "text/html": [
       "<style scoped>\n",
       "  .table-result-container {\n",
       "    max-height: 300px;\n",
       "    overflow: auto;\n",
       "  }\n",
       "  table, th, td {\n",
       "    border: 1px solid black;\n",
       "    border-collapse: collapse;\n",
       "  }\n",
       "  th, td {\n",
       "    padding: 5px;\n",
       "  }\n",
       "  th {\n",
       "    text-align: left;\n",
       "  }\n",
       "</style><div class='table-result-container'><table class='table-result'><thead style='background-color: white'><tr><th>scaledFeatures</th><th>Class</th></tr></thead><tbody><tr><td>Map(vectorType -> dense, length -> 29, values -> List(0.5981926061623504, -0.6942411021638852, -0.0440748471935518, 1.6727705625425264, 0.9733638055579661, -0.24511615322163974, 0.34706733585762145, 0.1936785982994624, 0.08263713433481461, 0.3311272018898171, 0.08338539885285962, -0.5404060870051797, -0.6182946323291837, -0.9960971732491677, -0.3246096164490301, 1.604011022937432, -0.5368319260681518, 0.2448630241444076, 0.030769878583235596, 0.49628115539005957, 0.3261174434913668, -0.02492332120662109, 0.3828537662094795, -0.17691102375613274, 0.11050672655740985, 0.24658501006984543, -0.39216974306340907, 0.33089104174320316, -0.0637810387248247))</td><td>0</td></tr><tr><td>Map(vectorType -> dense, length -> 29, values -> List(0.010754832980729332, 0.6084952594310952, 0.16117563692663997, 0.10979690934882776, 0.3165223710679578, 0.04348327570891918, -0.06181985742147667, -0.06370009791342846, 0.07125335796867134, -0.23249378077926594, -0.15334935939751806, 1.580000075702499, 1.0660866993727665, 0.49141734116292446, -0.14998221852172033, 0.6943591996604377, 0.5294328243583352, -0.13516973179726777, -0.21876219825788853, -0.1790857349082969, -0.08961070531227833, -0.30737626492223197, -0.8800752094067651, 0.16220089886855985, -0.5611295646957747, 0.32069333790440524, 0.26106901709386826, -0.022255639115493928, 0.0446074393682205))</td><td>0</td></tr><tr><td>Map(vectorType -> dense, length -> 29, values -> List(1.5139126604025908, -0.6934992452238191, -0.8115764015230559, 1.1694664397320775, 0.26823082294214673, -0.3645711458040887, 1.3514512133714873, 0.6397745147279934, 0.20737236543359341, -1.378672931058512, 0.19069927901388312, 0.6118286359340674, 0.06613650257222503, 0.7206985870825093, -0.17311358493070836, 2.562901685603002, -3.298229581937316, 1.3068655851353743, -0.14478973730846748, -2.7785559725451017, 0.6809737760183282, 0.3376311034323613, 1.063356404316374, 1.456317189039576, -1.1380901404568373, -0.6285356170752573, -0.2884462456250787, -0.13713661493785764, -0.18102050930977134))</td><td>0</td></tr><tr><td>Map(vectorType -> dense, length -> 29, values -> List(0.4937627781115511, -0.49332403207741354, -0.11216922771730702, 1.1825143748617035, -0.6097255708019895, -0.0074688672314202975, 0.9361481886931922, 0.1920703010029605, 0.31601704471831427, -1.2625009557851772, -0.05046786454608884, -0.221891224748239, 0.17837067456552683, 0.5101678056040084, -0.30035996630214945, -0.6898361983181155, -1.209293870164272, -0.8054432281407429, 2.3453004047924333, -1.514202265029094, -0.2698547516872058, -0.1474430378266673, 0.00726689464375752, -0.3047760123187692, -1.9410237319908816, 1.2419015323822085, -0.46021653361476894, 0.1553959344495727, 0.18618825967134908))</td><td>0</td></tr><tr><td>Map(vectorType -> dense, length -> 29, values -> List(0.2798255614577122, -0.5913287255806574, 0.5315401165822371, 1.0214098823894229, 0.28465490447934966, -0.2950149181822865, 0.07199845677494943, 0.479301441909162, -0.22650983355730225, 0.744324980360488, 0.6916238180002389, -0.8061451706863964, 0.5386257022751221, 1.3522419776167227, -1.1680314634958737, 0.19132313625856917, -0.5152042170828695, -0.2790802962693358, -0.04556892286021143, 0.9870355642029609, 0.5299378632216263, -0.012839195108414563, 1.1000093400718385, -0.22012300956314917, 0.23324967844983227, -0.39520094794314836, 1.0416094709933832, 0.5436188420170638, 0.6518147717866488))</td><td>0</td></tr></tbody></table></div>"
      ]
     },
     "metadata": {
      "application/vnd.databricks.v1+output": {
       "addedWidgets": {},
       "aggData": [],
       "aggError": "",
       "aggOverflow": false,
       "aggSchema": [],
       "aggSeriesLimitReached": false,
       "aggType": "",
       "arguments": {},
       "columnCustomDisplayInfos": {},
       "data": [
        [
         {
          "length": 29,
          "values": [
           0.5981926061623504,
           -0.6942411021638852,
           -0.0440748471935518,
           1.6727705625425264,
           0.9733638055579661,
           -0.24511615322163974,
           0.34706733585762145,
           0.1936785982994624,
           0.08263713433481461,
           0.3311272018898171,
           0.08338539885285962,
           -0.5404060870051797,
           -0.6182946323291837,
           -0.9960971732491677,
           -0.3246096164490301,
           1.604011022937432,
           -0.5368319260681518,
           0.2448630241444076,
           0.030769878583235596,
           0.49628115539005957,
           0.3261174434913668,
           -0.02492332120662109,
           0.3828537662094795,
           -0.17691102375613274,
           0.11050672655740985,
           0.24658501006984543,
           -0.39216974306340907,
           0.33089104174320316,
           -0.0637810387248247
          ],
          "vectorType": "dense"
         },
         0
        ],
        [
         {
          "length": 29,
          "values": [
           0.010754832980729332,
           0.6084952594310952,
           0.16117563692663997,
           0.10979690934882776,
           0.3165223710679578,
           0.04348327570891918,
           -0.06181985742147667,
           -0.06370009791342846,
           0.07125335796867134,
           -0.23249378077926594,
           -0.15334935939751806,
           1.580000075702499,
           1.0660866993727665,
           0.49141734116292446,
           -0.14998221852172033,
           0.6943591996604377,
           0.5294328243583352,
           -0.13516973179726777,
           -0.21876219825788853,
           -0.1790857349082969,
           -0.08961070531227833,
           -0.30737626492223197,
           -0.8800752094067651,
           0.16220089886855985,
           -0.5611295646957747,
           0.32069333790440524,
           0.26106901709386826,
           -0.022255639115493928,
           0.0446074393682205
          ],
          "vectorType": "dense"
         },
         0
        ],
        [
         {
          "length": 29,
          "values": [
           1.5139126604025908,
           -0.6934992452238191,
           -0.8115764015230559,
           1.1694664397320775,
           0.26823082294214673,
           -0.3645711458040887,
           1.3514512133714873,
           0.6397745147279934,
           0.20737236543359341,
           -1.378672931058512,
           0.19069927901388312,
           0.6118286359340674,
           0.06613650257222503,
           0.7206985870825093,
           -0.17311358493070836,
           2.562901685603002,
           -3.298229581937316,
           1.3068655851353743,
           -0.14478973730846748,
           -2.7785559725451017,
           0.6809737760183282,
           0.3376311034323613,
           1.063356404316374,
           1.456317189039576,
           -1.1380901404568373,
           -0.6285356170752573,
           -0.2884462456250787,
           -0.13713661493785764,
           -0.18102050930977134
          ],
          "vectorType": "dense"
         },
         0
        ],
        [
         {
          "length": 29,
          "values": [
           0.4937627781115511,
           -0.49332403207741354,
           -0.11216922771730702,
           1.1825143748617035,
           -0.6097255708019895,
           -0.0074688672314202975,
           0.9361481886931922,
           0.1920703010029605,
           0.31601704471831427,
           -1.2625009557851772,
           -0.05046786454608884,
           -0.221891224748239,
           0.17837067456552683,
           0.5101678056040084,
           -0.30035996630214945,
           -0.6898361983181155,
           -1.209293870164272,
           -0.8054432281407429,
           2.3453004047924333,
           -1.514202265029094,
           -0.2698547516872058,
           -0.1474430378266673,
           0.00726689464375752,
           -0.3047760123187692,
           -1.9410237319908816,
           1.2419015323822085,
           -0.46021653361476894,
           0.1553959344495727,
           0.18618825967134908
          ],
          "vectorType": "dense"
         },
         0
        ],
        [
         {
          "length": 29,
          "values": [
           0.2798255614577122,
           -0.5913287255806574,
           0.5315401165822371,
           1.0214098823894229,
           0.28465490447934966,
           -0.2950149181822865,
           0.07199845677494943,
           0.479301441909162,
           -0.22650983355730225,
           0.744324980360488,
           0.6916238180002389,
           -0.8061451706863964,
           0.5386257022751221,
           1.3522419776167227,
           -1.1680314634958737,
           0.19132313625856917,
           -0.5152042170828695,
           -0.2790802962693358,
           -0.04556892286021143,
           0.9870355642029609,
           0.5299378632216263,
           -0.012839195108414563,
           1.1000093400718385,
           -0.22012300956314917,
           0.23324967844983227,
           -0.39520094794314836,
           1.0416094709933832,
           0.5436188420170638,
           0.6518147717866488
          ],
          "vectorType": "dense"
         },
         0
        ]
       ],
       "datasetInfos": [],
       "dbfsResultPath": null,
       "isJsonSchema": true,
       "metadata": {},
       "overflow": false,
       "plotOptions": {
        "customPlotOptions": {},
        "displayType": "table",
        "pivotAggregation": null,
        "pivotColumns": null,
        "xColumns": null,
        "yColumns": null
       },
       "removedWidgets": [],
       "schema": [
        {
         "metadata": "{\"ml_attr\":{\"num_attrs\":29}}",
         "name": "scaledFeatures",
         "type": "{\"type\":\"udt\",\"class\":\"org.apache.spark.ml.linalg.VectorUDT\",\"pyClass\":\"pyspark.ml.linalg.VectorUDT\",\"sqlType\":{\"type\":\"struct\",\"fields\":[{\"name\":\"type\",\"type\":\"byte\",\"nullable\":false,\"metadata\":{}},{\"name\":\"size\",\"type\":\"integer\",\"nullable\":true,\"metadata\":{}},{\"name\":\"indices\",\"type\":{\"type\":\"array\",\"elementType\":\"integer\",\"containsNull\":false},\"nullable\":true,\"metadata\":{}},{\"name\":\"values\",\"type\":{\"type\":\"array\",\"elementType\":\"double\",\"containsNull\":false},\"nullable\":true,\"metadata\":{}}]}}"
        },
        {
         "metadata": "{}",
         "name": "Class",
         "type": "\"integer\""
        }
       ],
       "type": "table"
      }
     },
     "output_type": "display_data"
    }
   ],
   "source": [
    "from pyspark.ml.feature import VectorAssembler, StandardScaler\n",
    "\n",
    "# Assemble features into a single vector\n",
    "assembler = VectorAssembler(inputCols=[\"Amount\"] + [f\"V{i}\" for i in range(1, 29)], outputCol=\"features\")\n",
    "df = assembler.transform(df)\n",
    "\n",
    "# Scale the features\n",
    "scaler = StandardScaler(inputCol=\"features\", outputCol=\"scaledFeatures\")\n",
    "scaler_model = scaler.fit(df)\n",
    "df = scaler_model.transform(df)\n",
    "\n",
    "# Show the transformed DataFrame\n",
    "display(df.select(\"scaledFeatures\", \"Class\").limit(5))"
   ]
  },
  {
   "cell_type": "markdown",
   "metadata": {
    "application/vnd.databricks.v1+cell": {
     "cellMetadata": {},
     "inputWidgets": {},
     "nuid": "9affaf5e-f166-4d47-b62b-de5e274c7ae0",
     "showTitle": false,
     "tableResultSettingsMap": {},
     "title": ""
    }
   },
   "source": [
    "Train a Machine Learning Model"
   ]
  },
  {
   "cell_type": "markdown",
   "metadata": {
    "application/vnd.databricks.v1+cell": {
     "cellMetadata": {},
     "inputWidgets": {},
     "nuid": "22badd65-920b-4817-8f1c-82d3183d363a",
     "showTitle": false,
     "tableResultSettingsMap": {},
     "title": ""
    }
   },
   "source": [
    "Split the Data"
   ]
  },
  {
   "cell_type": "code",
   "execution_count": 0,
   "metadata": {
    "application/vnd.databricks.v1+cell": {
     "cellMetadata": {
      "byteLimit": 2048000,
      "rowLimit": 10000
     },
     "inputWidgets": {},
     "nuid": "72b44f26-e17f-48fc-9a02-e39135d391b0",
     "showTitle": false,
     "tableResultSettingsMap": {},
     "title": ""
    }
   },
   "outputs": [],
   "source": [
    "train_df, test_df = df.randomSplit([0.8, 0.2], seed=42)"
   ]
  },
  {
   "cell_type": "markdown",
   "metadata": {
    "application/vnd.databricks.v1+cell": {
     "cellMetadata": {},
     "inputWidgets": {},
     "nuid": "f6465ee5-3fbc-48ca-9c9c-64dee8543690",
     "showTitle": false,
     "tableResultSettingsMap": {},
     "title": ""
    }
   },
   "source": [
    "Train a Logistic Regression Model"
   ]
  },
  {
   "cell_type": "code",
   "execution_count": 0,
   "metadata": {
    "application/vnd.databricks.v1+cell": {
     "cellMetadata": {
      "byteLimit": 2048000,
      "rowLimit": 10000
     },
     "inputWidgets": {},
     "nuid": "9f9030e1-3860-4ad0-8a7d-2caf2839b85b",
     "showTitle": false,
     "tableResultSettingsMap": {},
     "title": ""
    }
   },
   "outputs": [],
   "source": [
    "from pyspark.ml.classification import LogisticRegression\n",
    "\n",
    "# Initialize the model\n",
    "lr = LogisticRegression(featuresCol=\"scaledFeatures\", labelCol=\"Class\")\n",
    "\n",
    "# Train the model\n",
    "lr_model = lr.fit(train_df)"
   ]
  },
  {
   "cell_type": "markdown",
   "metadata": {
    "application/vnd.databricks.v1+cell": {
     "cellMetadata": {},
     "inputWidgets": {},
     "nuid": "e7e86b7d-92c2-4ee8-b643-6ded85a26425",
     "showTitle": false,
     "tableResultSettingsMap": {},
     "title": ""
    }
   },
   "source": [
    "Evaluate the Model"
   ]
  },
  {
   "cell_type": "code",
   "execution_count": 0,
   "metadata": {
    "application/vnd.databricks.v1+cell": {
     "cellMetadata": {
      "byteLimit": 2048000,
      "rowLimit": 10000
     },
     "inputWidgets": {},
     "nuid": "d34a6357-2427-4baa-bf0f-e35c8ab9abe2",
     "showTitle": false,
     "tableResultSettingsMap": {},
     "title": ""
    }
   },
   "outputs": [
    {
     "output_type": "stream",
     "name": "stdout",
     "output_type": "stream",
     "text": [
      "AUC-ROC: 0.968724625140629\n"
     ]
    }
   ],
   "source": [
    "from pyspark.ml.evaluation import BinaryClassificationEvaluator\n",
    "\n",
    "# Make predictions\n",
    "predictions = lr_model.transform(test_df)\n",
    "\n",
    "# Evaluate using AUC-ROC\n",
    "evaluator = BinaryClassificationEvaluator(labelCol=\"Class\", rawPredictionCol=\"rawPrediction\", metricName=\"areaUnderROC\")\n",
    "auc = evaluator.evaluate(predictions)\n",
    "print(f\"AUC-ROC: {auc}\")"
   ]
  },
  {
   "cell_type": "markdown",
   "metadata": {
    "application/vnd.databricks.v1+cell": {
     "cellMetadata": {},
     "inputWidgets": {},
     "nuid": "a198ce45-3e09-4f5b-86de-25c897427af0",
     "showTitle": false,
     "tableResultSettingsMap": {},
     "title": ""
    }
   },
   "source": [
    "getting an AUC-ROC score of 0.9687 (96.87%) accuracy."
   ]
  }
 ],
 "metadata": {
  "application/vnd.databricks.v1+notebook": {
   "computePreferences": null,
   "dashboards": [],
   "environmentMetadata": {
    "base_environment": "",
    "client": "1"
   },
   "language": "python",
   "notebookMetadata": {
    "pythonIndentUnit": 4
   },
   "notebookName": "Detect Creditcard Fraud with AI",
   "widgets": {}
  }
 },
 "nbformat": 4,
 "nbformat_minor": 0
}
